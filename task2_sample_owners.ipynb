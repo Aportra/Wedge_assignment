{
 "cells": [
  {
   "cell_type": "code",
   "execution_count": 80,
   "metadata": {},
   "outputs": [],
   "source": [
    "from google.cloud import bigquery as gbq\n",
    "import pandas as pd"
   ]
  },
  {
   "cell_type": "code",
   "execution_count": 81,
   "metadata": {},
   "outputs": [],
   "source": [
    "client = gbq.Client(project = 'wedge-project0')"
   ]
  },
  {
   "cell_type": "code",
   "execution_count": 82,
   "metadata": {},
   "outputs": [],
   "source": [
    "def query_owners(project_id,dataset_id,sample_size):\n",
    "    query =  f\"\"\"\n",
    "        with owner_sample as(\n",
    "\n",
    "        select distinct card_no \n",
    "        from `{project_id}.{dataset_id}.transArchive_*`\n",
    "        order by rand()\n",
    "        limit {sample_size}\n",
    "        )\n",
    "        select * \n",
    "        from owner_sample;\n",
    "\n",
    "        \"\"\"\n",
    "    query_job = client.query(query,project = project_id)\n",
    "    query_df = query_job.result()\n",
    "    query_df = query_df.to_dataframe()\n",
    "    \n",
    "    return query_df"
   ]
  },
  {
   "cell_type": "code",
   "execution_count": 83,
   "metadata": {},
   "outputs": [],
   "source": [
    "def card_no_records(project_id,dataset_id,query_df):\n",
    "\n",
    "    owner_list = tuple(query_df['card_no'])\n",
    "\n",
    "    query = f\"\"\" \n",
    "    select * \n",
    "    from `{project_id}.{dataset_id}.transArchive_*`\n",
    "    where card_no in {owner_list}\n",
    "    \"\"\"\n",
    "\n",
    "    query_job = client.query(query,project = project_id)\n",
    "    query_result = query_job.result()\n",
    "    query_result = query_result.to_dataframe()\n",
    "\n",
    "    return query_result"
   ]
  },
  {
   "cell_type": "code",
   "execution_count": 84,
   "metadata": {},
   "outputs": [
    {
     "name": "stderr",
     "output_type": "stream",
     "text": [
      "/Library/Frameworks/Python.framework/Versions/3.12/lib/python3.12/site-packages/google/cloud/bigquery/table.py:1727: UserWarning: BigQuery Storage module not found, fetch data with the REST endpoint instead.\n",
      "  warnings.warn(\n"
     ]
    }
   ],
   "source": [
    "data = query_owners('wedge-project-0','transactions',440)\n",
    "\n",
    "card_no_records = card_no_records('wedge-project-0','transactions',data)"
   ]
  },
  {
   "cell_type": "code",
   "execution_count": 85,
   "metadata": {},
   "outputs": [],
   "source": [
    "card_no_records.to_csv('card_no_records_sample.txt',sep = '\\t', index = False)"
   ]
  }
 ],
 "metadata": {
  "kernelspec": {
   "display_name": "Python 3",
   "language": "python",
   "name": "python3"
  },
  "language_info": {
   "codemirror_mode": {
    "name": "ipython",
    "version": 3
   },
   "file_extension": ".py",
   "mimetype": "text/x-python",
   "name": "python",
   "nbconvert_exporter": "python",
   "pygments_lexer": "ipython3",
   "version": "3.12.3"
  }
 },
 "nbformat": 4,
 "nbformat_minor": 2
}
