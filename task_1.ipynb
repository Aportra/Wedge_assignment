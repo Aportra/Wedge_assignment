{
 "cells": [
  {
   "cell_type": "code",
   "execution_count": 1,
   "metadata": {},
   "outputs": [],
   "source": [
    "import os\n",
    "import pandas as pd\n",
    "import zipfile\n",
    "import csv\n",
    "from io import StringIO"
   ]
  },
  {
   "cell_type": "markdown",
   "metadata": {},
   "source": [
    "#### For Windows"
   ]
  },
  {
   "cell_type": "code",
   "execution_count": 2,
   "metadata": {},
   "outputs": [],
   "source": [
    "directory = 'C:\\\\Users\\\\aport\\\\OneDrive\\\\Documents\\\\School\\\\Applied Data Analytics\\\\wedge_project\\\\WedgeZipOfZips_small\\\\'"
   ]
  },
  {
   "cell_type": "code",
   "execution_count": 3,
   "metadata": {},
   "outputs": [
    {
     "data": {
      "text/plain": [
       "'C:\\\\Users\\\\aport\\\\OneDrive\\\\Documents\\\\School\\\\Applied Data Analytics\\\\wedge_project\\\\WedgeZipOfZips_small\\\\transArchive_201001_201003_small.zip'"
      ]
     },
     "execution_count": 3,
     "metadata": {},
     "output_type": "execute_result"
    }
   ],
   "source": [
    "directory + 'transArchive_201001_201003_small.zip'"
   ]
  },
  {
   "cell_type": "markdown",
   "metadata": {},
   "source": [
    "#### For Mac"
   ]
  },
  {
   "cell_type": "code",
   "execution_count": 11,
   "metadata": {},
   "outputs": [],
   "source": [
    "directory = '/Users/aaronportra/Documents/Advanced Data Analytics/wedge_project/WedgeZipOfZips_small/'"
   ]
  },
  {
   "cell_type": "code",
   "execution_count": 5,
   "metadata": {},
   "outputs": [
    {
     "data": {
      "text/plain": [
       "'C:\\\\Users\\\\aport\\\\OneDrive\\\\Documents\\\\School\\\\Applied Data Analytics\\\\wedge_project\\\\WedgeZipOfZips_small\\\\transArchive_201001_201003_small.zip'"
      ]
     },
     "execution_count": 5,
     "metadata": {},
     "output_type": "execute_result"
    }
   ],
   "source": [
    "directory + 'transArchive_201001_201003_small.zip'"
   ]
  },
  {
   "cell_type": "markdown",
   "metadata": {},
   "source": [
    "## Cleaning Data for BQ"
   ]
  },
  {
   "cell_type": "code",
   "execution_count": null,
   "metadata": {},
   "outputs": [],
   "source": [
    "file = zipfile.ZipFile(directory)"
   ]
  },
  {
   "cell_type": "code",
   "execution_count": null,
   "metadata": {},
   "outputs": [],
   "source": [
    "for file in os.listdir(directory):\n",
    "    if file.endswith('.zip'):\n",
    "        with zipfile.ZipFile(directory + file,'r') as zip_file:\n",
    "            for info in zip_file.namelist():\n",
    "\n",
    "                file_content = zip_file.read(info).decode('utf-8')\n",
    "\n",
    "                csv_file = StringIO(file_content)\n",
    "\n",
    "                print(pd.read_csv(csv_file))"
   ]
  },
  {
   "cell_type": "code",
   "execution_count": 42,
   "metadata": {},
   "outputs": [
    {
     "name": "stdout",
     "output_type": "stream",
     "text": [
      "<ZipInfo filename='transArchive_201001_201003_small.csv' filemode='-rw-rw-rw-' file_size=2948918>\n",
      "<ZipInfo filename='transArchive_201004_201006_small.csv' filemode='-rw-rw-rw-' file_size=2910071>\n",
      "<ZipInfo filename='transArchive_201007_201009_small.csv' filemode='-rw-rw-rw-' file_size=2908093>\n",
      "<ZipInfo filename='transArchive_201010_201012_small.csv' filemode='-rw-rw-rw-' file_size=2936765>\n",
      "<ZipInfo filename='transArchive_201101_201103_small.csv' filemode='-rw-rw-rw-' file_size=2970096>\n",
      "<ZipInfo filename='transArchive_201104_small.csv' filemode='-rw-rw-rw-' file_size=2147765>\n",
      "<ZipInfo filename='transArchive_201105_small.csv' filemode='-rw-rw-rw-' file_size=2163264>\n",
      "<ZipInfo filename='transArchive_201106_small.csv' filemode='-rw-rw-rw-' file_size=2132916>\n",
      "<ZipInfo filename='transArchive_201107_201109_small.csv' filemode='-rw-rw-rw-' file_size=2960648>\n",
      "<ZipInfo filename='transArchive_201110_201112_small.csv' filemode='-rw-rw-rw-' file_size=2972362>\n",
      "<ZipInfo filename='transArchive_201201_201203_inactive_small.csv' filemode='-rw-rw-rw-' file_size=2992082>\n",
      "<ZipInfo filename='transArchive_201201_201203_small.csv' filemode='-rw-rw-rw-' file_size=2965935>\n",
      "<ZipInfo filename='transArchive_201204_201206_inactive_small.csv' filemode='-rw-rw-rw-' file_size=2985314>\n",
      "<ZipInfo filename='transArchive_201204_201206_small.csv' filemode='-rw-rw-rw-' file_size=2970359>\n",
      "<ZipInfo filename='transArchive_201207_201209_inactive_small.csv' filemode='-rw-rw-rw-' file_size=2974552>\n",
      "<ZipInfo filename='transArchive_201207_201209_small.csv' filemode='-rw-rw-rw-' file_size=2969050>\n",
      "<ZipInfo filename='transArchive_201210_201212_inactive_small.csv' filemode='-rw-rw-rw-' file_size=2983488>\n",
      "<ZipInfo filename='transArchive_201210_201212_small.csv' filemode='-rw-rw-rw-' file_size=2955664>\n",
      "<ZipInfo filename='transArchive_201301_201303_inactive_small.csv' filemode='-rw-rw-rw-' file_size=2993195>\n",
      "<ZipInfo filename='transArchive_201301_201303_small.csv' filemode='-rw-rw-rw-' file_size=2958925>\n",
      "<ZipInfo filename='transArchive_201304_201306_inactive_small.csv' filemode='-rw-rw-rw-' file_size=2983825>\n",
      "<ZipInfo filename='transArchive_201304_201306_small.csv' filemode='-rw-rw-rw-' file_size=2954919>\n",
      "<ZipInfo filename='transArchive_201307_201309_inactive_small.csv' filemode='-rw-rw-rw-' file_size=2969630>\n",
      "<ZipInfo filename='transArchive_201307_201309_small.csv' filemode='-rw-rw-rw-' file_size=2957374>\n",
      "<ZipInfo filename='transArchive_201310_201312_inactive_small.csv' filemode='-rw-rw-rw-' file_size=2983552>\n",
      "<ZipInfo filename='transArchive_201310_201312_small.csv' filemode='-rw-rw-rw-' file_size=2949882>\n",
      "<ZipInfo filename='transArchive_201401_201403_inactive_small.csv' filemode='-rw-rw-rw-' file_size=2992241>\n",
      "<ZipInfo filename='transArchive_201401_201403_small.csv' filemode='-rw-rw-rw-' file_size=2989533>\n",
      "<ZipInfo filename='transArchive_201404_201406_inactive_small.csv' filemode='-rw-rw-rw-' file_size=2981013>\n",
      "<ZipInfo filename='transArchive_201404_201406_small.csv' filemode='-rw-rw-rw-' file_size=2942692>\n",
      "<ZipInfo filename='transArchive_201407_201409_inactive_small.csv' filemode='-rw-rw-rw-' file_size=2960181>\n",
      "<ZipInfo filename='transArchive_201407_201409_small.csv' filemode='-rw-rw-rw-' file_size=2961378>\n",
      "<ZipInfo filename='transArchive_201410_201412_inactive_small.csv' filemode='-rw-rw-rw-' file_size=2351949>\n",
      "<ZipInfo filename='transArchive_201410_201412_small.csv' filemode='-rw-rw-rw-' file_size=2962906>\n",
      "<ZipInfo filename='transArchive_201501_201503_small.csv' filemode='-rw-rw-rw-' file_size=2929970>\n",
      "<ZipInfo filename='transArchive_201504_201506_small.csv' filemode='-rw-rw-rw-' file_size=2882102>\n",
      "<ZipInfo filename='transArchive_201507_201509_small.csv' filemode='-rw-rw-rw-' file_size=2895224>\n",
      "<ZipInfo filename='transArchive_201510_small.csv' filemode='-rw-rw-rw-' file_size=2898848>\n",
      "<ZipInfo filename='transArchive_201511_small.csv' filemode='-rw-rw-rw-' file_size=1965941>\n",
      "<ZipInfo filename='transArchive_201512_small.csv' filemode='-rw-rw-rw-' file_size=1827858>\n",
      "<ZipInfo filename='transArchive_201601_small.csv' filemode='-rw-rw-rw-' file_size=1969450>\n",
      "<ZipInfo filename='transArchive_201602_small.csv' filemode='-rw-rw-rw-' file_size=1948004>\n",
      "<ZipInfo filename='transArchive_201603_small.csv' filemode='-rw-rw-rw-' file_size=1936590>\n",
      "<ZipInfo filename='transArchive_201604_small.csv' filemode='-rw-rw-rw-' file_size=1945929>\n",
      "<ZipInfo filename='transArchive_201605_small.csv' filemode='-rw-rw-rw-' file_size=1940645>\n",
      "<ZipInfo filename='transArchive_201606_small.csv' filemode='-rw-rw-rw-' file_size=1923903>\n",
      "<ZipInfo filename='transArchive_201607_small.csv' filemode='-rw-rw-rw-' file_size=1930835>\n",
      "<ZipInfo filename='transArchive_201608_small.csv' filemode='-rw-rw-rw-' file_size=1927451>\n",
      "<ZipInfo filename='transArchive_201609_small.csv' filemode='-rw-rw-rw-' file_size=1921537>\n",
      "<ZipInfo filename='transArchive_201610_small.csv' filemode='-rw-rw-rw-' file_size=1938735>\n",
      "<ZipInfo filename='transArchive_201611_small.csv' filemode='-rw-rw-rw-' file_size=1923712>\n",
      "<ZipInfo filename='transArchive_201612_small.csv' filemode='-rw-rw-rw-' file_size=1926090>\n",
      "<ZipInfo filename='transArchive_201701_small.csv' filemode='-rw-rw-rw-' file_size=1948489>\n",
      "53\n"
     ]
    }
   ],
   "source": [
    "i = 0\n",
    "for name in os.listdir(directory):\n",
    "    d = zipfile.ZipFile(directory + name)\n",
    "    for content in d.infolist():\n",
    "        print(content)\n",
    "        i +=1\n",
    "print(i)"
   ]
  },
  {
   "cell_type": "code",
   "execution_count": 33,
   "metadata": {},
   "outputs": [
    {
     "name": "stdout",
     "output_type": "stream",
     "text": [
      "Content of 'transArchive_201001_201003_small.zip'\n",
      "Content of 'transArchive_201004_201006_small.zip'\n",
      "Content of 'transArchive_201007_201009_small.zip'\n",
      "Content of 'transArchive_201010_201012_small.zip'\n",
      "Content of 'transArchive_201101_201103_small.zip'\n",
      "Content of 'transArchive_201104_small.zip'\n",
      "Content of 'transArchive_201105_small.zip'\n",
      "Content of 'transArchive_201106_small.zip'\n",
      "Content of 'transArchive_201107_201109_small.zip'\n",
      "Content of 'transArchive_201110_201112_small.zip'\n",
      "Content of 'transArchive_201201_201203_inactive_small.zip'\n",
      "Content of 'transArchive_201201_201203_small.zip'\n",
      "Content of 'transArchive_201204_201206_inactive_small.zip'\n",
      "Content of 'transArchive_201204_201206_small.zip'\n",
      "Content of 'transArchive_201207_201209_inactive_small.zip'\n",
      "Content of 'transArchive_201207_201209_small.zip'\n",
      "Content of 'transArchive_201210_201212_inactive_small.zip'\n",
      "Content of 'transArchive_201210_201212_small.zip'\n",
      "Content of 'transArchive_201301_201303_inactive_small.zip'\n",
      "Content of 'transArchive_201301_201303_small.zip'\n",
      "Content of 'transArchive_201304_201306_inactive_small.zip'\n",
      "Content of 'transArchive_201304_201306_small.zip'\n",
      "Content of 'transArchive_201307_201309_inactive_small.zip'\n",
      "Content of 'transArchive_201307_201309_small.zip'\n",
      "Content of 'transArchive_201310_201312_inactive_small.zip'\n",
      "Content of 'transArchive_201310_201312_small.zip'\n",
      "Content of 'transArchive_201401_201403_inactive_small.zip'\n",
      "Content of 'transArchive_201401_201403_small.zip'\n",
      "Content of 'transArchive_201404_201406_inactive_small.zip'\n",
      "Content of 'transArchive_201404_201406_small.zip'\n",
      "Content of 'transArchive_201407_201409_inactive_small.zip'\n",
      "Content of 'transArchive_201407_201409_small.zip'\n",
      "Content of 'transArchive_201410_201412_inactive_small.zip'\n",
      "Content of 'transArchive_201410_201412_small.zip'\n",
      "Content of 'transArchive_201501_201503_small.zip'\n",
      "Content of 'transArchive_201504_201506_small.zip'\n",
      "Content of 'transArchive_201507_201509_small.zip'\n",
      "Content of 'transArchive_201510_small.zip'\n",
      "Content of 'transArchive_201511_small.zip'\n",
      "Content of 'transArchive_201512_small.zip'\n",
      "Content of 'transArchive_201601_small.zip'\n",
      "Content of 'transArchive_201602_small.zip'\n",
      "Content of 'transArchive_201603_small.zip'\n",
      "Content of 'transArchive_201604_small.zip'\n",
      "Content of 'transArchive_201605_small.zip'\n",
      "Content of 'transArchive_201606_small.zip'\n",
      "Content of 'transArchive_201607_small.zip'\n",
      "Content of 'transArchive_201608_small.zip'\n",
      "Content of 'transArchive_201609_small.zip'\n",
      "Content of 'transArchive_201610_small.zip'\n",
      "Content of 'transArchive_201611_small.zip'\n",
      "Content of 'transArchive_201612_small.zip'\n",
      "Content of 'transArchive_201701_small.zip'\n",
      "Content of 'New folder'\n",
      "[]\n",
      "\n"
     ]
    }
   ],
   "source": [
    "for path, folders, files in os.walk(directory):\n",
    "    # Open file\n",
    "    for filename in files:\n",
    "        with open(os.path.join(directory, filename)) as f:\n",
    "            print(f\"Content of '{filename}'\")\n",
    "            # Read content of file\n",
    "\n",
    "\n",
    "    # List contain of folder\n",
    "    for folder_name in folders:\n",
    "        print(f\"Content of '{folder_name}'\")\n",
    "        # List content from folder\n",
    "        print(os.listdir(f\"{path}/{folder_name}\"))\n",
    "        print()\n",
    "\n",
    "    break"
   ]
  }
 ],
 "metadata": {
  "kernelspec": {
   "display_name": "Python 3",
   "language": "python",
   "name": "python3"
  },
  "language_info": {
   "codemirror_mode": {
    "name": "ipython",
    "version": 3
   },
   "file_extension": ".py",
   "mimetype": "text/x-python",
   "name": "python",
   "nbconvert_exporter": "python",
   "pygments_lexer": "ipython3",
   "version": "3.12.3"
  }
 },
 "nbformat": 4,
 "nbformat_minor": 2
}
