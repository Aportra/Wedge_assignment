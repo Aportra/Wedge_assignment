{
 "cells": [
  {
   "cell_type": "code",
   "execution_count": 1,
   "metadata": {},
   "outputs": [],
   "source": [
    "import os\n",
    "import pandas as pd\n",
    "import zipfile\n",
    "import csv\n",
    "from io import StringIO\n",
    "import mysql.connector\n",
    "from google.cloud import bigquery\n",
    "import pandas_gbq"
   ]
  },
  {
   "cell_type": "markdown",
   "metadata": {},
   "source": [
    "### Testing on home server"
   ]
  },
  {
   "cell_type": "code",
   "execution_count": null,
   "metadata": {},
   "outputs": [],
   "source": [
    "try:\n",
    "    connection = mysql.connector.connect(\n",
    "        host = os.getenv('sql_host'),\n",
    "        user = os.getenv('sql_user'),\n",
    "        password = os.getenv('sql_pw'),\n",
    "        database = 'wedge_assignment')\n",
    "\n",
    "    cursor = connection.cursor()\n",
    "except mysql.connector.Error as err:\n",
    "    print(f'{err}')\n",
    "\n",
    "finally:\n",
    "    if cursor:\n",
    "        print('Cursor created')"
   ]
  },
  {
   "cell_type": "markdown",
   "metadata": {},
   "source": [
    "#### Setting Directory for Mac and Windows "
   ]
  },
  {
   "cell_type": "code",
   "execution_count": 3,
   "metadata": {},
   "outputs": [],
   "source": [
    "try:\n",
    "    directory_small = '/Users/aaronportra/Documents/ADA/wedge_project/WedgeZipOfZips_small/'\n",
    "    directory = '/Users/aaronportra/Documents/ADA/wedge_project/WedgeZipOfZips/'\n",
    "    os.listdir(directory)\n",
    "except FileNotFoundError:\n",
    "    directory_small = 'C:\\\\Users\\\\aport\\\\OneDrive\\\\Documents\\\\School\\\\Fall Semester 2024\\\\Applied Data Analytics\\\\wedge_project\\\\WedgeZipOfZips_small\\\\'\n",
    "    directory = 'C:\\\\Users\\\\aport\\\\OneDrive\\\\Documents\\\\School\\\\Fall Semester 2024\\\\Applied Data Analytics\\\\wedge_project\\\\WedgeZipOfZips\\\\'\n",
    "    os.listdir(directory)"
   ]
  },
  {
   "cell_type": "markdown",
   "metadata": {},
   "source": [
    "## Cleaning Data for BQ"
   ]
  },
  {
   "cell_type": "code",
   "execution_count": 4,
   "metadata": {},
   "outputs": [],
   "source": [
    "def sniff(file):\n",
    "\n",
    "    file = StringIO(file)\n",
    "\n",
    "    sample = file.read(10000)\n",
    "\n",
    "    sniffer = csv.Sniffer()\n",
    "\n",
    "    file.seek(0)\n",
    "\n",
    "    delimiter = sniffer.sniff(sample).delimiter\n",
    "\n",
    "\n",
    "    reader = csv.reader(file, delimiter=delimiter)\n",
    "\n",
    "    first_row = next(reader)\n",
    "\n",
    "    has_header = sniffer.has_header(sample)\n",
    "\n",
    "\n",
    "    if len(first_row) < 50:\n",
    "        has_header = False\n",
    "\n",
    "    return delimiter, has_header"
   ]
  },
  {
   "cell_type": "code",
   "execution_count": 5,
   "metadata": {},
   "outputs": [],
   "source": [
    "# #Adding space to text. Example: ChickenBreast -> Chicken Breast\n",
    "# def add_space(text):\n",
    "#     if isinstance(text,str):\n",
    "#         return re.sub(r'([a-z])([A-Z])',r'\\1 \\2',text)\n",
    "\n",
    "#     return text\n"
   ]
  },
  {
   "cell_type": "code",
   "execution_count": 6,
   "metadata": {},
   "outputs": [],
   "source": [
    "#Read in files and load to pandas\n",
    "\n",
    "def create_db(directory):\n",
    "    transactions = {}\n",
    "\n",
    "    for file in os.listdir(directory):\n",
    "        if file.endswith('.zip'):\n",
    "            with zipfile.ZipFile(os.path.join(directory, file),'r') as zip_file:\n",
    "                for info in zip_file.namelist():\n",
    "        \n",
    "                    file_content = zip_file.read(info).decode('utf-8',errors = 'replace')\n",
    "\n",
    "                    csv_file = StringIO(file_content)\n",
    "\n",
    "                    h = sniff(file_content)\n",
    "\n",
    "                    csv_file.seek(0)\n",
    "\n",
    "                    if h[1]:\n",
    "                        data = pd.read_csv(csv_file, delimiter=h[0])\n",
    "                        data = pd.DataFrame(data)\n",
    "\n",
    "                        columns = data.columns\n",
    "\n",
    "\n",
    "                    elif not h[1]:\n",
    "                        data = pd.read_csv(csv_file, delimiter = h[0], header = None,)\n",
    "                        data = pd.DataFrame(data)\n",
    "                        data.columns = columns\n",
    "    \n",
    "                    # del_nan(data)\n",
    "\n",
    "                    data = data.convert_dtypes()\n",
    "\n",
    "                transactions[file.rstrip('.zip')] = data\n",
    "    \n",
    "\n",
    "    for trans in transactions: \n",
    "\n",
    "        transactions[trans]['datetime'] = pd.to_datetime(transactions[trans]['datetime'])\n",
    "        transactions[trans]['description'] = transactions[trans]['description'].str.replace('\"','')\n",
    "\n",
    "        for col in transactions[trans]:\n",
    "            if transactions[trans][col].dtypes == 'Int64':\n",
    "                transactions[trans][col] = pd.to_numeric(transactions[trans][col],errors = 'coerce').astype('float64')\n",
    "            elif transactions[trans][col].dtypes == 'object':\n",
    "                transactions[trans][col] = pd.to_numeric(transactions[trans][col],errors = 'coerce').astype('float64')\n",
    "\n",
    "            \n",
    "\n",
    "\n",
    "\n",
    "    \n",
    "    return transactions"
   ]
  },
  {
   "cell_type": "code",
   "execution_count": null,
   "metadata": {},
   "outputs": [],
   "source": [
    "# small_zips = create_db(directory_small)\n",
    "\n",
    "full_zips = create_db(directory)"
   ]
  },
  {
   "cell_type": "code",
   "execution_count": 8,
   "metadata": {},
   "outputs": [],
   "source": [
    "#Converting columns to bools\n",
    "\n",
    "bools = ['memType','staff','batchHeaderID','display']\n",
    "\n",
    "for tables in full_zips:\n",
    "    for col in bools:\n",
    "        if col in full_zips[tables] and full_zips[tables][col].dtypes != bool:\n",
    "            full_zips[tables][col] = pd.to_numeric(full_zips[tables][col], errors='coerce')\n",
    "\n",
    "            full_zips[tables][col] = full_zips[tables][col].fillna(0)\n",
    "\n",
    "            full_zips[tables][col] = (full_zips[tables][col] != 0).astype(bool)\n"
   ]
  },
  {
   "cell_type": "code",
   "execution_count": 9,
   "metadata": {},
   "outputs": [],
   "source": [
    "#Saving to CSV\n",
    "\n",
    "# try:\n",
    "#     save_path = '/Users/aaronportra/Documents/ADA/wedge_project/clean_transactions/'\n",
    "#     os.listdir(save_path)\n",
    "# except FileNotFoundError:\n",
    "#     save_path = 'C:\\\\Users\\\\aport\\\\OneDrive\\\\Documents\\\\School\\\\Fall Semester 2024\\\\Applied Data Analytics\\\\wedge_project\\\\clean_transactions\\\\'\n",
    "#     os.listdir(save_path)\n",
    "\n",
    "# for trans in full_zips:\n",
    "#     full_zips[trans].to_csv(save_path + trans + '.csv', encoding = 'utf-8', index = False)\n"
   ]
  },
  {
   "cell_type": "code",
   "execution_count": 10,
   "metadata": {},
   "outputs": [],
   "source": [
    "full_zips['transArchive_201201_201203_inactive']['organic'] = pd.to_numeric(full_zips['transArchive_201201_201203_inactive']['organic']).astype('float')"
   ]
  },
  {
   "cell_type": "code",
   "execution_count": 11,
   "metadata": {},
   "outputs": [],
   "source": [
    "project_id = 'wedge-project-0'\n",
    "\n",
    "dataset_id = 'transactions'\n",
    "\n",
    "client = bigquery.Client(project = project_id)\n",
    "\n",
    "dataset_ref = client.dataset(dataset_id)\n",
    "try:\n",
    "    client.get_dataset(dataset_ref) \n",
    "except:\n",
    "    client.create_dataset(dataset_ref) \n"
   ]
  },
  {
   "cell_type": "code",
   "execution_count": null,
   "metadata": {},
   "outputs": [],
   "source": [
    "for trans in full_zips:\n",
    "    try: \n",
    "        client.get_table(f'{project_id}.{dataset_id}.{trans}')\n",
    "        print(f'{trans} already exists')\n",
    "\n",
    "        continue\n",
    "\n",
    "    except:\n",
    "        pandas_gbq.to_gbq(full_zips[trans],project_id = project_id,destination_table = f'{project_id}.{dataset_id}.{trans}')"
   ]
  },
  {
   "cell_type": "code",
   "execution_count": null,
   "metadata": {},
   "outputs": [],
   "source": [
    "if connection.is_connected():\n",
    "    connection.close()\n",
    "    print('Connection Closed')\n"
   ]
  },
  {
   "cell_type": "code",
   "execution_count": null,
   "metadata": {},
   "outputs": [],
   "source": [
    "for trans in full_zips:\n",
    "    print(trans)"
   ]
  },
  {
   "cell_type": "code",
   "execution_count": null,
   "metadata": {},
   "outputs": [],
   "source": [
    "for i in full_zips['transArchive_201201_201203_inactive'].columns:\n",
    "    print(i)\n",
    "    print(full_zips['transArchive_201201_201203_inactive'][i].dtypes)"
   ]
  }
 ],
 "metadata": {
  "kernelspec": {
   "display_name": "Python 3",
   "language": "python",
   "name": "python3"
  },
  "language_info": {
   "codemirror_mode": {
    "name": "ipython",
    "version": 3
   },
   "file_extension": ".py",
   "mimetype": "text/x-python",
   "name": "python",
   "nbconvert_exporter": "python",
   "pygments_lexer": "ipython3",
   "version": "3.12.4"
  }
 },
 "nbformat": 4,
 "nbformat_minor": 2
}
