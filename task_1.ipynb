{
 "cells": [
  {
   "cell_type": "code",
   "execution_count": 47,
   "metadata": {},
   "outputs": [],
   "source": [
    "import os\n",
    "import pandas as pd\n",
    "import zipfile\n",
    "import csv\n",
    "from io import StringIO\n",
    "import mysql.connector\n",
    "import re"
   ]
  },
  {
   "cell_type": "markdown",
   "metadata": {},
   "source": [
    "### Testing on home server"
   ]
  },
  {
   "cell_type": "code",
   "execution_count": 48,
   "metadata": {},
   "outputs": [
    {
     "name": "stdout",
     "output_type": "stream",
     "text": [
      "Connection Closed\n",
      "Cursor created\n"
     ]
    }
   ],
   "source": [
    "try:\n",
    "    connection = mysql.connector.connect(\n",
    "        host = '192.168.1.26',\n",
    "        user = 'aportra',\n",
    "        password = '@$Occer22',\n",
    "        database = 'wedge_assignment')\n",
    "\n",
    "    cursor = connection.cursor()\n",
    "except mysql.connector.Error as err:\n",
    "    print(f'{err}')\n",
    "\n",
    "finally:\n",
    "    if connection.is_connected():\n",
    "        connection.close()\n",
    "        print('Connection Closed')\n",
    "    \n",
    "    if cursor:\n",
    "        print('Cursor created')"
   ]
  },
  {
   "cell_type": "markdown",
   "metadata": {},
   "source": [
    "#### Setting Directory for Mac and Windows "
   ]
  },
  {
   "cell_type": "code",
   "execution_count": 49,
   "metadata": {},
   "outputs": [],
   "source": [
    "try:\n",
    "    directory_small = '/Users/aaronportra/Documents/ADA/wedge_project/WedgeZipOfZips_small/'\n",
    "    directory = '/Users/aaronportra/Documents/ADA/wedge_project/WedgeZipOfZips/'\n",
    "    os.listdir(directory)\n",
    "except FileNotFoundError:\n",
    "    directory_small = 'C:\\\\Users\\\\aport\\\\OneDrive\\\\Documents\\\\School\\\\Fall Semester 2024\\\\Applied Data Analytics\\\\wedge_project\\\\WedgeZipOfZips_small\\\\'\n",
    "    directory = 'C:\\\\Users\\\\aport\\\\OneDrive\\\\Documents\\\\School\\\\Fall Semester 2024\\\\Applied Data Analytics\\\\wedge_project\\\\WedgeZipOfZips\\\\'\n",
    "    os.listdir(directory)"
   ]
  },
  {
   "cell_type": "markdown",
   "metadata": {},
   "source": [
    "## Cleaning Data for BQ"
   ]
  },
  {
   "cell_type": "code",
   "execution_count": 50,
   "metadata": {},
   "outputs": [],
   "source": [
    "def sniff(file):\n",
    "\n",
    "    file = StringIO(file)\n",
    "\n",
    "    sample = file.read(10000)\n",
    "\n",
    "    sniffer = csv.Sniffer()\n",
    "\n",
    "    file.seek(0)\n",
    "\n",
    "    delimiter = sniffer.sniff(sample).delimiter\n",
    "\n",
    "\n",
    "    reader = csv.reader(file, delimiter=delimiter)\n",
    "\n",
    "    first_row = next(reader)\n",
    "\n",
    "    has_header = sniffer.has_header(sample)\n",
    "\n",
    "\n",
    "    if len(first_row) < 50:\n",
    "        has_header = False\n",
    "\n",
    "    return delimiter, has_header"
   ]
  },
  {
   "cell_type": "code",
   "execution_count": 51,
   "metadata": {},
   "outputs": [],
   "source": [
    "# transactions = {}\n",
    "\n",
    "# for file in os.listdir(directory):\n",
    "#     if file.endswith('.zip'):\n",
    "#         with zipfile.ZipFile(os.path.join(directory, file),'r') as zip_file:\n",
    "#             for info in zip_file.namelist():\n",
    "    \n",
    "#                 file_content = zip_file.read(info).decode('utf-8',errors = 'replace')\n",
    "\n",
    "#                 csv_file = StringIO(file_content)\n",
    "\n",
    "#                 h = sniff(file_content)\n",
    "\n",
    "#                 csv_file.seek(0)\n",
    "\n",
    "#                 if h[1]:\n",
    "#                     data = pd.read_csv(csv_file, delimiter=h[0])\n",
    "#                     data = pd.DataFrame(data)\n",
    "\n",
    "#                     columns = data.columns\n",
    "\n",
    "\n",
    "#                 elif not h[1]:\n",
    "#                     data = pd.read_csv(csv_file, delimiter = h[0], header = None)\n",
    "#                     data = pd.DataFrame(data)\n",
    "#                     data.columns = columns\n",
    " \n",
    "\n",
    "#             transactions[file.rstrip('.zip')] = data   "
   ]
  },
  {
   "cell_type": "code",
   "execution_count": 66,
   "metadata": {},
   "outputs": [],
   "source": [
    "#Removing Null values and replacing with white space\n",
    "def del_nan(data):\n",
    "    \n",
    "    data = data.fillna(None)\n",
    "\n",
    "#Adding space to text. Example: ChickenBreast -> Chicken Breast\n",
    "def add_space(text):\n",
    "    if isinstance(text,str):\n",
    "        return re.sub(r'([a-z])([A-Z])',r'\\1 \\2',text)\n",
    "\n",
    "    return text\n"
   ]
  },
  {
   "cell_type": "code",
   "execution_count": 53,
   "metadata": {},
   "outputs": [
    {
     "name": "stdout",
     "output_type": "stream",
     "text": [
      "0       2.648\n",
      "1        4.37\n",
      "2       0.938\n",
      "3        3.12\n",
      "4        3.12\n",
      "        ...  \n",
      "9995      0.0\n",
      "9996      0.0\n",
      "9997      6.3\n",
      "9998     2.35\n",
      "9999     2.65\n",
      "Name: cost, Length: 10000, dtype: Float64\n"
     ]
    }
   ],
   "source": [
    "print(small_zips['transArchive_201001_201003_small']['cost'].convert_dtypes())"
   ]
  },
  {
   "cell_type": "code",
   "execution_count": 71,
   "metadata": {},
   "outputs": [],
   "source": [
    "def create_db(directory):\n",
    "    transactions = {}\n",
    "\n",
    "    for file in os.listdir(directory):\n",
    "        if file.endswith('.zip'):\n",
    "            with zipfile.ZipFile(os.path.join(directory, file),'r') as zip_file:\n",
    "                for info in zip_file.namelist():\n",
    "        \n",
    "                    file_content = zip_file.read(info).decode('utf-8',errors = 'replace')\n",
    "\n",
    "                    csv_file = StringIO(file_content)\n",
    "\n",
    "                    h = sniff(file_content)\n",
    "\n",
    "                    csv_file.seek(0)\n",
    "\n",
    "                    if h[1]:\n",
    "                        data = pd.read_csv(csv_file, delimiter=h[0])\n",
    "                        data = pd.DataFrame(data)\n",
    "\n",
    "                        columns = data.columns\n",
    "\n",
    "\n",
    "                    elif not h[1]:\n",
    "                        data = pd.read_csv(csv_file, delimiter = h[0], header = None,)\n",
    "                        data = pd.DataFrame(data)\n",
    "                        data.columns = columns\n",
    "    \n",
    "                    del_nan(data)\n",
    "\n",
    "                    data = data.convert_dtypes()\n",
    "\n",
    "                transactions[file.rstrip('.zip')] = data\n",
    "\n",
    "\n",
    " \n",
    "\n",
    "    for trans in transactions:\n",
    "        for column in transactions[trans]:\n",
    "            if transactions[trans][column].dtypes == 'O':\n",
    "                transactions[trans][column] = transactions[trans][column].apply(add_space)\n",
    "\n",
    "\n",
    "    \n",
    "    return transactions"
   ]
  },
  {
   "cell_type": "code",
   "execution_count": 72,
   "metadata": {},
   "outputs": [],
   "source": [
    "small_zips = create_db(directory_small)\n",
    "\n",
    "# full_zips = create_db(directory)"
   ]
  },
  {
   "cell_type": "code",
   "execution_count": 58,
   "metadata": {},
   "outputs": [],
   "source": [
    "# save_path = '/Users/aaronportra/Documents/Advanced Data Analytics/wedge_project/clean_transactions/'\n",
    "\n",
    "# for trans in full_zips:\n",
    "#     df = transactions[trans].to_csv(save_path + trans + '.csv', encoding = 'utf-8', index = False)"
   ]
  },
  {
   "cell_type": "code",
   "execution_count": 81,
   "metadata": {},
   "outputs": [],
   "source": [
    "small_zips['transArchive_201001_201003_small'].to_csv('clean_data.csv',index = False)"
   ]
  }
 ],
 "metadata": {
  "kernelspec": {
   "display_name": "Python 3",
   "language": "python",
   "name": "python3"
  },
  "language_info": {
   "codemirror_mode": {
    "name": "ipython",
    "version": 3
   },
   "file_extension": ".py",
   "mimetype": "text/x-python",
   "name": "python",
   "nbconvert_exporter": "python",
   "pygments_lexer": "ipython3",
   "version": "3.12.4"
  }
 },
 "nbformat": 4,
 "nbformat_minor": 2
}
