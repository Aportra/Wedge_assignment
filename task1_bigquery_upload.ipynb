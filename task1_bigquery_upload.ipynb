{
 "cells": [
  {
   "cell_type": "code",
   "execution_count": 12,
   "metadata": {},
   "outputs": [],
   "source": [
    "import os\n",
    "import pandas as pd\n",
    "import zipfile\n",
    "import csv\n",
    "from io import StringIO\n",
    "from google.cloud import bigquery\n",
    "import pandas_gbq"
   ]
  },
  {
   "cell_type": "markdown",
   "metadata": {},
   "source": [
    "### Testing on home server"
   ]
  },
  {
   "cell_type": "markdown",
   "metadata": {},
   "source": [
    "#### Setting Directory for Mac and Windows "
   ]
  },
  {
   "cell_type": "code",
   "execution_count": 13,
   "metadata": {},
   "outputs": [],
   "source": [
    "try:\n",
    "    directory_small = '/Users/aaronportra/Documents/ADA/wedge_project/WedgeZipOfZips_small/'\n",
    "    directory = '/Users/aaronportra/Documents/ADA/wedge_project/WedgeZipOfZips/'\n",
    "    os.listdir(directory)\n",
    "except FileNotFoundError:\n",
    "    directory_small = 'C:\\\\Users\\\\aport\\\\OneDrive\\\\Documents\\\\School\\\\Fall Semester 2024\\\\Applied Data Analytics\\\\wedge_project\\\\WedgeZipOfZips_small\\\\'\n",
    "    directory = 'C:\\\\Users\\\\aport\\\\OneDrive\\\\Documents\\\\School\\\\Fall Semester 2024\\\\Applied Data Analytics\\\\wedge_project\\\\WedgeZipOfZips\\\\'\n",
    "    os.listdir(directory)"
   ]
  },
  {
   "cell_type": "markdown",
   "metadata": {},
   "source": [
    "## Cleaning Data and Uploading to Google Big Query"
   ]
  },
  {
   "cell_type": "code",
   "execution_count": 14,
   "metadata": {},
   "outputs": [],
   "source": [
    "def sniff(file):\n",
    "\n",
    "    file = StringIO(file)\n",
    "\n",
    "    sample = file.read(10000)\n",
    "\n",
    "    sniffer = csv.Sniffer()\n",
    "\n",
    "    file.seek(0)\n",
    "\n",
    "    delimiter = sniffer.sniff(sample).delimiter\n",
    "\n",
    "\n",
    "    reader = csv.reader(file, delimiter=delimiter)\n",
    "\n",
    "    first_row = next(reader)\n",
    "\n",
    "    has_header = sniffer.has_header(sample)\n",
    "\n",
    "\n",
    "    if len(first_row) < 50:\n",
    "        has_header = False\n",
    "\n",
    "    return delimiter, has_header"
   ]
  },
  {
   "cell_type": "code",
   "execution_count": 15,
   "metadata": {},
   "outputs": [],
   "source": [
    "project_id = 'wedge-project-0'\n",
    "\n",
    "dataset_id = 'transactions'\n",
    "\n",
    "client = bigquery.Client(project = project_id)\n",
    "\n",
    "dataset_ref = client.dataset(dataset_id)\n",
    "try:\n",
    "    client.get_dataset(dataset_ref) \n",
    "except:\n",
    "    client.create_dataset(dataset_ref) \n"
   ]
  },
  {
   "cell_type": "code",
   "execution_count": 16,
   "metadata": {},
   "outputs": [],
   "source": [
    "def upload_gbq(data,name): \n",
    "    try: \n",
    "        client.get_table(f'{project_id}.{dataset_id}.{name}')\n",
    "        print(f'{name} already exists')\n",
    "\n",
    "    except:\n",
    "        pandas_gbq.to_gbq(data,project_id = project_id,destination_table = f'{project_id}.{dataset_id}.{name}')\n",
    "        print(f'Uploading {name}')"
   ]
  },
  {
   "cell_type": "code",
   "execution_count": 21,
   "metadata": {},
   "outputs": [],
   "source": [
    "#Read in files and load to pandas\n",
    "\n",
    "def create_db(directory):\n",
    "    count = 0\n",
    "    for file in os.listdir(directory):\n",
    "        if file.endswith('.zip'):\n",
    "            with zipfile.ZipFile(os.path.join(directory, file),'r') as zip_file:\n",
    "                for info in zip_file.namelist():\n",
    "        \n",
    "                    file_content = zip_file.read(info).decode('utf-8',errors = 'replace')\n",
    "\n",
    "                    csv_file = StringIO(file_content)\n",
    "\n",
    "                    h = sniff(file_content)\n",
    "\n",
    "                    csv_file.seek(0)\n",
    "\n",
    "                    if h[1]:\n",
    "                        data = pd.read_csv(csv_file, delimiter=h[0])\n",
    "                        data = pd.DataFrame(data)\n",
    "\n",
    "                        columns = data.columns\n",
    "\n",
    "\n",
    "                    elif not h[1]:\n",
    "                        data = pd.read_csv(csv_file, delimiter = h[0], header = None,)\n",
    "                        data = pd.DataFrame(data)\n",
    "                        data.columns = columns\n",
    "    \n",
    "                    # del_nan(data)\n",
    "\n",
    "                    data = data.convert_dtypes()\n",
    "\n",
    "\n",
    "\n",
    "                    data['datetime'] = pd.to_datetime(data['datetime'])\n",
    "                    data['description'] = data['description'].str.replace('\"','')\n",
    "\n",
    "                    for col in data:\n",
    "                            if r'\\N' in data[col].values:\n",
    "                                data[col] = pd.to_numeric(data[col],errors = 'coerce').astype('float64')\n",
    "                            if 'price' in col.lower() or 'percent' in col.lower() or 'organic' in col.lower():\n",
    "                                data[col] = pd.to_numeric(data[col],errors = 'coerce').astype('float64')\n",
    "                            if data[col].dtypes == 'Int64':\n",
    "                                data[col] = pd.to_numeric(data[col],errors = 'coerce').astype('float64')\n",
    "                            elif data[col].dtypes == 'object':\n",
    "                                data[col] = pd.to_numeric(data[col],errors = 'coerce').astype('float64')\n",
    "\n",
    "\n",
    "                    bools = ['memType','staff','batchHeaderID','display']\n",
    "\n",
    "                    for col in bools:\n",
    "                        if col in data and data[col].dtypes != bool:\n",
    "                            data[col] = pd.to_numeric(data[col], errors='coerce')\n",
    "\n",
    "                            data[col] = data[col].fillna(0)\n",
    "\n",
    "                            data[col] = (data[col] != 0).astype(bool) \n",
    "\n",
    "\n",
    "                    upload_gbq(data,info.rstrip('.csv'))\n"
   ]
  },
  {
   "cell_type": "code",
   "execution_count": 18,
   "metadata": {},
   "outputs": [],
   "source": [
    "test_dir = '/Users/aaronportra/Documents/ADA/wedge_project/untitled folder/'"
   ]
  },
  {
   "cell_type": "code",
   "execution_count": null,
   "metadata": {},
   "outputs": [],
   "source": [
    "#create_db(directory_small)\n",
    "\n",
    "create_db(directory)"
   ]
  },
  {
   "cell_type": "code",
   "execution_count": 20,
   "metadata": {},
   "outputs": [],
   "source": [
    "#Saving to CSV\n",
    "\n",
    "# try:\n",
    "#     save_path = '/Users/aaronportra/Documents/ADA/wedge_project/clean_transactions/'\n",
    "#     os.listdir(save_path)\n",
    "# except FileNotFoundError:\n",
    "#     save_path = 'C:\\\\Users\\\\aport\\\\OneDrive\\\\Documents\\\\School\\\\Fall Semester 2024\\\\Applied Data Analytics\\\\wedge_project\\\\clean_transactions\\\\'\n",
    "#     os.listdir(save_path)\n",
    "\n",
    "# for trans in full_zips:\n",
    "#     full_zips[trans].to_csv(save_path + trans + '.csv', encoding = 'utf-8', index = False)\n"
   ]
  }
 ],
 "metadata": {
  "kernelspec": {
   "display_name": "Python 3",
   "language": "python",
   "name": "python3"
  },
  "language_info": {
   "codemirror_mode": {
    "name": "ipython",
    "version": 3
   },
   "file_extension": ".py",
   "mimetype": "text/x-python",
   "name": "python",
   "nbconvert_exporter": "python",
   "pygments_lexer": "ipython3",
   "version": "3.12.3"
  }
 },
 "nbformat": 4,
 "nbformat_minor": 2
}
