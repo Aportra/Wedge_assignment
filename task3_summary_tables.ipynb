{
 "cells": [
  {
   "cell_type": "code",
   "execution_count": 1,
   "metadata": {},
   "outputs": [],
   "source": [
    "from google.cloud import bigquery\n",
    "import sqlite3\n",
    "import pandas as pd"
   ]
  },
  {
   "cell_type": "code",
   "execution_count": 2,
   "metadata": {},
   "outputs": [],
   "source": [
    "client = bigquery.Client(project = 'wedge-project-0')\n",
    "cursor = sqlite3.connect('sales.db')"
   ]
  },
  {
   "cell_type": "code",
   "execution_count": 3,
   "metadata": {},
   "outputs": [],
   "source": [
    "sales_hour_query = client.query(\n",
    "    \"\"\" \n",
    "    SELECT\n",
    "  FORMAT_TIMESTAMP('%Y-%m-%d', datetime) AS date,\n",
    "  FORMAT_TIMESTAMP('%H', datetime) AS hour,\n",
    "  SUM(total) AS sales,\n",
    "  \n",
    "  COUNT(DISTINCT (\n",
    "    CAST(FORMAT_TIMESTAMP('%Y-%m-%d', datetime) AS STRING) ||\n",
    "    CAST(FORMAT_TIMESTAMP('%H', datetime) AS STRING) ||\n",
    "    CAST(register_no AS STRING) ||\n",
    "    CAST(emp_no AS STRING) ||\n",
    "    CAST(trans_no AS STRING)\n",
    "  )) AS unique_transactions,\n",
    "\n",
    "  SUM(CASE\n",
    "    WHEN trans_status IN ('V', 'R') THEN -1\n",
    "    ELSE 1\n",
    "  END) AS items\n",
    "\n",
    "FROM\n",
    "  `wedge-project-0.transactions.transArchive_*`\n",
    "  \n",
    "WHERE\n",
    "  department != 0\n",
    "  AND department != 15\n",
    "  AND trans_status NOT IN ('M', 'C', 'J')\n",
    "\n",
    "\n",
    "GROUP BY\n",
    "  date, hour\n",
    "\n",
    "ORDER BY\n",
    "  date, hour\n",
    "\n",
    "    \"\"\"\n",
    ") "
   ]
  },
  {
   "cell_type": "code",
   "execution_count": 4,
   "metadata": {},
   "outputs": [],
   "source": [
    "sales_owner_query = client.query(\"\"\" \n",
    "SELECT\n",
    "  card_no,\n",
    "  FORMAT_TIMESTAMP('%Y', datetime) AS year,\n",
    "  FORMAT_TIMESTAMP('%m', datetime) AS month,\n",
    "  SUM(total) AS sales,\n",
    "  \n",
    "  COUNT(DISTINCT (\n",
    "    CAST(FORMAT_TIMESTAMP('%Y-%m-%d', datetime) AS STRING) ||\n",
    "    CAST(FORMAT_TIMESTAMP('%H', datetime) AS STRING) ||\n",
    "    CAST(register_no AS STRING) ||\n",
    "    CAST(emp_no AS STRING) ||\n",
    "    CAST(trans_no AS STRING)\n",
    "  )) AS unique_transactions,\n",
    "\n",
    "  SUM(CASE\n",
    "    WHEN trans_status IN ('V', 'R') THEN -1\n",
    "    ELSE 1\n",
    "  END) AS items\n",
    "\n",
    "FROM\n",
    "  `wedge-project-0.transactions.transArchive_*`\n",
    "  \n",
    "WHERE\n",
    "  department != 0\n",
    "  AND department != 15\n",
    "  AND trans_status NOT IN ('M', 'C', 'J')\n",
    "\n",
    "GROUP BY\n",
    "  year, month, card_no\n",
    "\n",
    "ORDER BY\n",
    "  year asc, month asc\n",
    "\n",
    "\"\"\")\n"
   ]
  },
  {
   "cell_type": "code",
   "execution_count": 5,
   "metadata": {},
   "outputs": [],
   "source": [
    "sales_description_query = client.query(\n",
    "    \"\"\"\n",
    "    SELECT\n",
    "  upc,description,department,\n",
    "  FORMAT_TIMESTAMP('%Y', datetime) AS year,\n",
    "  FORMAT_TIMESTAMP('%m', datetime) AS month,\n",
    "  SUM(total) AS sales,\n",
    "  \n",
    "  COUNT(DISTINCT (\n",
    "    CAST(FORMAT_TIMESTAMP('%Y-%m-%d', datetime) AS STRING) ||\n",
    "    CAST(FORMAT_TIMESTAMP('%H', datetime) AS STRING) ||\n",
    "    CAST(register_no AS STRING) ||\n",
    "    CAST(emp_no AS STRING) ||\n",
    "    CAST(trans_no AS STRING)\n",
    "  )) AS unique_transactions,\n",
    "\n",
    "  SUM(CASE\n",
    "    WHEN trans_status IN ('V', 'R') THEN -1\n",
    "    ELSE 1\n",
    "  END) AS items\n",
    "\n",
    "FROM\n",
    "  `wedge-project-0.transactions.transArchive_*`\n",
    "  \n",
    "WHERE\n",
    "  department != 0\n",
    "  AND department != 15\n",
    "  AND trans_status NOT IN ('M', 'C', 'J')\n",
    "\n",
    "GROUP BY\n",
    "  year, month,upc,description,department\n",
    "\n",
    "ORDER BY\n",
    "  year asc, month asc\n",
    "\n",
    "    \"\"\")\n",
    "\n"
   ]
  },
  {
   "cell_type": "code",
   "execution_count": 6,
   "metadata": {},
   "outputs": [
    {
     "name": "stderr",
     "output_type": "stream",
     "text": [
      "c:\\Users\\aport\\AppData\\Local\\Programs\\Python\\Python312\\Lib\\site-packages\\google\\cloud\\bigquery\\table.py:1727: UserWarning: BigQuery Storage module not found, fetch data with the REST endpoint instead.\n",
      "  warnings.warn(\n",
      "c:\\Users\\aport\\AppData\\Local\\Programs\\Python\\Python312\\Lib\\site-packages\\google\\cloud\\bigquery\\table.py:1727: UserWarning: BigQuery Storage module not found, fetch data with the REST endpoint instead.\n",
      "  warnings.warn(\n",
      "c:\\Users\\aport\\AppData\\Local\\Programs\\Python\\Python312\\Lib\\site-packages\\google\\cloud\\bigquery\\table.py:1727: UserWarning: BigQuery Storage module not found, fetch data with the REST endpoint instead.\n",
      "  warnings.warn(\n"
     ]
    }
   ],
   "source": [
    "sales_hour = sales_hour_query.to_dataframe()\n",
    "sales_owner = sales_owner_query.to_dataframe()\n",
    "sales_descrip = sales_description_query.to_dataframe() "
   ]
  },
  {
   "cell_type": "code",
   "execution_count": 7,
   "metadata": {},
   "outputs": [],
   "source": [
    "def insert_table(dataframe, name):\n",
    "\n",
    "    columns = dataframe.columns\n",
    "    \n",
    "    query = f'insert into {name} ('\n",
    "    query += ', '.join(f'\"{col}\"'for col in columns) + ') values\\n'\n",
    "    \n",
    "    value_strings = []\n",
    "    for _,row in dataframe.iterrows():\n",
    "        formatted_row = []\n",
    "        for value in row:\n",
    "            formatted_row.append(f\"'{value}'\") \n",
    "        value_strings.append(f\"({', '.join(formatted_row)})\")\n",
    "    \n",
    "    query += ', '.join(value_strings) + ';'\n",
    "    \n",
    "\n",
    "\n",
    "    cursor.execute(query)\n",
    "    cursor.commit()"
   ]
  },
  {
   "cell_type": "code",
   "execution_count": 8,
   "metadata": {},
   "outputs": [],
   "source": [
    "def create_table(dataframe,name):\n",
    "\n",
    "    type_maps = {'int64':'INTEGER','float64':'FLOAT','object':'TEXT','datetime64[ns]':'TIMESTAMP'}\n",
    "\n",
    "    columns = [(col,type_maps.get(str(types))) for col,types in dataframe.dtypes.items()]        \n",
    "\n",
    "\n",
    "\n",
    "    query = f'create table if not exists {name}(\\n'\n",
    "    query += ',\\n'.join(f'{col} {types}' for col, types in columns) + ')\\n;'\n",
    "    \n",
    "\n",
    "    cursor.execute(query)\n",
    "    cursor.commit()\n",
    "\n",
    "    insert_table(dataframe,name)\n",
    "\n"
   ]
  },
  {
   "cell_type": "code",
   "execution_count": 9,
   "metadata": {},
   "outputs": [],
   "source": [
    "# create_table(sales-hour,'sales_by_hour)\n",
    "create_table(sales_owner,'sales_by_owner')\n",
    "create_table(sales_descrip,'sales_by_description')"
   ]
  }
 ],
 "metadata": {
  "kernelspec": {
   "display_name": "Python 3",
   "language": "python",
   "name": "python3"
  },
  "language_info": {
   "codemirror_mode": {
    "name": "ipython",
    "version": 3
   },
   "file_extension": ".py",
   "mimetype": "text/x-python",
   "name": "python",
   "nbconvert_exporter": "python",
   "pygments_lexer": "ipython3",
   "version": "3.12.4"
  }
 },
 "nbformat": 4,
 "nbformat_minor": 2
}
