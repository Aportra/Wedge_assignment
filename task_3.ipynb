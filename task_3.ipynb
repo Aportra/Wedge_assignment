{
 "cells": [
  {
   "cell_type": "code",
   "execution_count": 23,
   "metadata": {},
   "outputs": [],
   "source": [
    "from google.cloud import bigquery\n",
    "import sqlite3\n",
    "import pandas as pd"
   ]
  },
  {
   "cell_type": "code",
   "execution_count": 24,
   "metadata": {},
   "outputs": [],
   "source": [
    "client = bigquery.Client(project = 'wedge-project-0')\n",
    "cursor = sqlite3.connect('sales.db')"
   ]
  },
  {
   "cell_type": "code",
   "execution_count": 25,
   "metadata": {},
   "outputs": [],
   "source": [
    "sales_hour_query = client.query(\n",
    "    \"\"\" \n",
    "    SELECT\n",
    "  FORMAT_TIMESTAMP('%Y-%m-%d', datetime) AS date,\n",
    "  FORMAT_TIMESTAMP('%H', datetime) AS hour,\n",
    "  SUM(total) AS sales,\n",
    "  \n",
    "  COUNT(DISTINCT (\n",
    "    CAST(FORMAT_TIMESTAMP('%Y-%m-%d', datetime) AS STRING) ||\n",
    "    CAST(FORMAT_TIMESTAMP('%H', datetime) AS STRING) ||\n",
    "    CAST(register_no AS STRING) ||\n",
    "    CAST(emp_no AS STRING) ||\n",
    "    CAST(trans_no AS STRING)\n",
    "  )) AS unique_transactions,\n",
    "\n",
    "  SUM(CASE\n",
    "    WHEN trans_status IN ('V', 'R') THEN -1\n",
    "    ELSE 1\n",
    "  END) AS items\n",
    "\n",
    "FROM\n",
    "  `wedge-project-0.transactions.transArchive_*`\n",
    "  \n",
    "WHERE\n",
    "  department != 0\n",
    "  AND department != 15\n",
    "  AND trans_status NOT IN ('M', 'C', 'J')\n",
    "\n",
    "\n",
    "GROUP BY\n",
    "  date, hour\n",
    "\n",
    "ORDER BY\n",
    "  date, hour\n",
    "\n",
    "    \"\"\"\n",
    ") "
   ]
  },
  {
   "cell_type": "code",
   "execution_count": 26,
   "metadata": {},
   "outputs": [],
   "source": [
    "sales_owner_query = client.query(\"\"\" \n",
    "SELECT\n",
    "  card_no,\n",
    "  FORMAT_TIMESTAMP('%Y', datetime) AS year,\n",
    "  FORMAT_TIMESTAMP('%m', datetime) AS month,\n",
    "  SUM(total) AS sales,\n",
    "  \n",
    "  COUNT(DISTINCT (\n",
    "    CAST(FORMAT_TIMESTAMP('%Y-%m-%d', datetime) AS STRING) ||\n",
    "    CAST(FORMAT_TIMESTAMP('%H', datetime) AS STRING) ||\n",
    "    CAST(register_no AS STRING) ||\n",
    "    CAST(emp_no AS STRING) ||\n",
    "    CAST(trans_no AS STRING)\n",
    "  )) AS unique_transactions,\n",
    "\n",
    "  SUM(CASE\n",
    "    WHEN trans_status IN ('V', 'R') THEN -1\n",
    "    ELSE 1\n",
    "  END) AS items\n",
    "\n",
    "FROM\n",
    "  `wedge-project-0.transactions.transArchive_*`\n",
    "  \n",
    "WHERE\n",
    "  department != 0\n",
    "  AND department != 15\n",
    "  AND trans_status NOT IN ('M', 'C', 'J')\n",
    "\n",
    "GROUP BY\n",
    "  year, month, card_no\n",
    "\n",
    "ORDER BY\n",
    "  year asc, month asc\n",
    "\n",
    "\"\"\")\n"
   ]
  },
  {
   "cell_type": "code",
   "execution_count": 27,
   "metadata": {},
   "outputs": [],
   "source": [
    "sales_description_query = client.query(\n",
    "    \"\"\"\n",
    "    SELECT\n",
    "  upc,description,department,\n",
    "  FORMAT_TIMESTAMP('%Y', datetime) AS year,\n",
    "  FORMAT_TIMESTAMP('%m', datetime) AS month,\n",
    "  SUM(total) AS sales,\n",
    "  \n",
    "  COUNT(DISTINCT (\n",
    "    CAST(FORMAT_TIMESTAMP('%Y-%m-%d', datetime) AS STRING) ||\n",
    "    CAST(FORMAT_TIMESTAMP('%H', datetime) AS STRING) ||\n",
    "    CAST(register_no AS STRING) ||\n",
    "    CAST(emp_no AS STRING) ||\n",
    "    CAST(trans_no AS STRING)\n",
    "  )) AS unique_transactions,\n",
    "\n",
    "  SUM(CASE\n",
    "    WHEN trans_status IN ('V', 'R') THEN -1\n",
    "    ELSE 1\n",
    "  END) AS items\n",
    "\n",
    "FROM\n",
    "  `wedge-project-0.transactions.transArchive_*`\n",
    "  \n",
    "WHERE\n",
    "  department != 0\n",
    "  AND department != 15\n",
    "  AND trans_status NOT IN ('M', 'C', 'J')\n",
    "\n",
    "GROUP BY\n",
    "  year, month,upc,description,department\n",
    "\n",
    "ORDER BY\n",
    "  year asc, month asc\n",
    "\n",
    "    \"\"\")\n",
    "\n"
   ]
  },
  {
   "cell_type": "code",
   "execution_count": 28,
   "metadata": {},
   "outputs": [
    {
     "name": "stderr",
     "output_type": "stream",
     "text": [
      "/Library/Frameworks/Python.framework/Versions/3.12/lib/python3.12/site-packages/google/cloud/bigquery/table.py:1727: UserWarning: BigQuery Storage module not found, fetch data with the REST endpoint instead.\n",
      "  warnings.warn(\n"
     ]
    }
   ],
   "source": [
    "sales_hour = sales_hour_query.to_dataframe()\n",
    "sales_owner = sales_owner_query.to_dataframe()\n",
    "sales_descrip = sales_description_query.to_dataframe() "
   ]
  },
  {
   "cell_type": "code",
   "execution_count": 29,
   "metadata": {},
   "outputs": [
    {
     "ename": "SyntaxError",
     "evalue": "incomplete input (2942432712.py, line 2)",
     "output_type": "error",
     "traceback": [
      "\u001b[0;36m  Cell \u001b[0;32mIn[29], line 2\u001b[0;36m\u001b[0m\n\u001b[0;31m    \u001b[0m\n\u001b[0m    ^\u001b[0m\n\u001b[0;31mSyntaxError\u001b[0m\u001b[0;31m:\u001b[0m incomplete input\n"
     ]
    }
   ],
   "source": [
    "def create_table(file):\n",
    "    "
   ]
  },
  {
   "cell_type": "code",
   "execution_count": 31,
   "metadata": {},
   "outputs": [
    {
     "name": "stdout",
     "output_type": "stream",
     "text": [
      "card_no\n",
      "year\n",
      "month\n",
      "sales\n",
      "unique_transactions\n",
      "items\n"
     ]
    }
   ],
   "source": [
    "for i in sales_owner.columns:\n",
    "    print(i)"
   ]
  },
  {
   "cell_type": "code",
   "execution_count": null,
   "metadata": {},
   "outputs": [],
   "source": []
  }
 ],
 "metadata": {
  "kernelspec": {
   "display_name": "Python 3",
   "language": "python",
   "name": "python3"
  },
  "language_info": {
   "codemirror_mode": {
    "name": "ipython",
    "version": 3
   },
   "file_extension": ".py",
   "mimetype": "text/x-python",
   "name": "python",
   "nbconvert_exporter": "python",
   "pygments_lexer": "ipython3",
   "version": "3.12.3"
  }
 },
 "nbformat": 4,
 "nbformat_minor": 2
}
